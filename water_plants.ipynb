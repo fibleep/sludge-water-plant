{
  "nbformat": 4,
  "nbformat_minor": 0,
  "metadata": {
    "colab": {
      "provenance": [],
      "authorship_tag": "ABX9TyMTWeghM2izE+zYm/fu4iWq",
      "include_colab_link": true
    },
    "kernelspec": {
      "name": "python3",
      "display_name": "Python 3"
    },
    "language_info": {
      "name": "python"
    }
  },
  "cells": [
    {
      "cell_type": "markdown",
      "metadata": {
        "id": "view-in-github",
        "colab_type": "text"
      },
      "source": [
        "<a href=\"https://colab.research.google.com/github/fibleep/sludge-water-plant/blob/main/water_plants.ipynb\" target=\"_parent\"><img src=\"https://colab.research.google.com/assets/colab-badge.svg\" alt=\"Open In Colab\"/></a>"
      ]
    },
    {
      "cell_type": "markdown",
      "source": [
        "# Waste Management in a Water Purification Plant\n",
        "Client X has two input streams with used water that they clean using two large tanks. These tanks are filled\n",
        "with living bacteria that eat the contaminants in the water, i.e. cleaning it. The bacteria will be less active\n",
        "or even die if they get too much or too little food (contaminants), too much or too little oxygen, or if the\n",
        "correct pH is not maintained. If this happens the sludge concentration at the exit of the tanks, i.e. our\n",
        "target variable, will be to high and additional expensive cleaning steps need to be performed. It is your job\n",
        "to forecast this sludge concentration 4h in advance."
      ],
      "metadata": {
        "id": "LKCQ7iBvuLZI"
      }
    },
    {
      "cell_type": "markdown",
      "source": [
        "## Our Variables\n",
        "\n",
        "|Name    |Description                         |Units|\n",
        "|--------|------------------------------------|-----|\n",
        "|InputC1 |O2 percentage in tank 1             |%    |\n",
        "|InputC2 |Liquid to reduce the pH in tank 1   |l/h  |\n",
        "|InputC3 |Filtered sludge going back to tank 1|m3/h |\n",
        "|InputC4 |Outside air                         |Nm3/h|\n",
        "|InputC5 |Height in tank 1                    |m    |\n",
        "|InputC6 |Flowrate to pH measurement in tank 1|l/h  |\n",
        "|InputC7 |pH of liquid in tank 1              |pH   |\n",
        "|InputC8 |Flowrate to O2 measurement in tank 1|l/h  |\n",
        "|InputC9 |O2 dissolved in tank 1              |mg/l |\n",
        "|InputC10|Temperature of liquid in tank 1     |°C   |\n",
        "|        |                                    |     |\n",
        "|InputE1 |Consentration of sludge             |g/l  |\n",
        "|InputE2 |Conductivity                        |mS   |\n",
        "|InputE3 |NO3 dissolved                       |mg/l |\n",
        "|        |                                    |     |\n",
        "|InputD1 |O2 percentage in tank 2             |%    |\n",
        "|InputD2 |Liquid to reduce the pH in tank 2   |l/h  |\n",
        "|InputD3 |Filtered sludge going back to tank 2|m3/h |\n",
        "|InputD4 |Outside air                         |Nm3/h|\n",
        "|InputD5 |Height in tank 2                    |m    |\n",
        "|InputD6 |Flowrate to pH measurement in tank 1|l/h  |\n",
        "|InputD7 |pH of liquid in tank 2              |pH   |\n",
        "|InputD8 |Flowrate to O2 measurement in tank 2|l/h  |\n",
        "|InputD9 |O2 dissolved in tank 2              |mg/l |\n",
        "|InputD10|Temperature of liquid in tank 2     |°C   |\n",
        "|        |                                    |     |\n",
        "|InputA1 |Temperature                         |°C   |\n",
        "|InputA2 |Flowrate                            |m3/h |\n",
        "|InputA3 |Amount of sludge in water           |mg/l |\n",
        "|InputA4 |Conductivity                        |mS/cm|\n",
        "|InputA5 |                                    |kg/h |\n",
        "|InputA6 |pH                                  |pH   |\n",
        "|        |                                    |     |\n",
        "|InputB1 |Temperature                         |°C   |\n",
        "|InputB2 |Flowrate                            |m3/h |\n",
        "|InputB3 |Amount of sludge in water           |mg/l |\n",
        "|InputB4 |Conductivity                        |mS/cm|\n",
        "|InputB5 |                                    |kg/h |\n",
        "|InputB6 |pH                                  |pH   |\n",
        "|        |                                    |     |\n",
        "|Target  |Target variable                     |mg/L |\n"
      ],
      "metadata": {
        "id": "FJMZH9qyvOhA"
      }
    },
    {
      "cell_type": "markdown",
      "source": [
        "# EDA"
      ],
      "metadata": {
        "id": "AKLj-Nl7wQcS"
      }
    },
    {
      "cell_type": "markdown",
      "source": [
        "## Loading in data and installing necessary packages"
      ],
      "metadata": {
        "id": "cB6n_JbnwZSX"
      }
    },
    {
      "cell_type": "code",
      "execution_count": null,
      "metadata": {
        "colab": {
          "base_uri": "https://localhost:8080/"
        },
        "id": "mrvWlTgkt4nN",
        "outputId": "71df6bf3-f762-4877-9125-21e7f25d067f"
      },
      "outputs": [
        {
          "output_type": "stream",
          "name": "stdout",
          "text": [
            "fatal: destination path 'sludge-water-plant' already exists and is not an empty directory.\n",
            "Requirement already satisfied: pandas in /usr/local/lib/python3.10/dist-packages (1.5.3)\n",
            "Requirement already satisfied: numpy in /usr/local/lib/python3.10/dist-packages (1.23.5)\n",
            "Requirement already satisfied: python-dateutil>=2.8.1 in /usr/local/lib/python3.10/dist-packages (from pandas) (2.8.2)\n",
            "Requirement already satisfied: pytz>=2020.1 in /usr/local/lib/python3.10/dist-packages (from pandas) (2023.3.post1)\n",
            "Requirement already satisfied: six>=1.5 in /usr/local/lib/python3.10/dist-packages (from python-dateutil>=2.8.1->pandas) (1.16.0)\n"
          ]
        }
      ],
      "source": [
        "!git clone https://github.com/fibleep/sludge-water-plant.git\n",
        "!pip install pandas numpy"
      ]
    },
    {
      "cell_type": "code",
      "source": [
        "import pandas as pd\n",
        "import matplotlib.pyplot as plt\n",
        "\n",
        "\n",
        "df = pd.read_csv(\"/content/sludge-water-plant/dataset/dataset.csv\",index_col=[0])\n",
        "df.index = pd.to_datetime(df.index)\n",
        "df.head()"
      ],
      "metadata": {
        "colab": {
          "base_uri": "https://localhost:8080/",
          "height": 429
        },
        "id": "masbXq4bwx16",
        "outputId": "98453722-9030-4223-ab7a-9483fa874fb0"
      },
      "execution_count": null,
      "outputs": [
        {
          "output_type": "execute_result",
          "data": {
            "text/plain": [
              "                      InputC1   InputC2   InputC3   InputC4  InputC5  \\\n",
              "2022-01-01 00:00:00  18.49650  18.81396  100.0696  618.6791      NaN   \n",
              "2022-01-01 00:05:00  18.49731  18.70401  100.0715  613.7349      NaN   \n",
              "2022-01-01 00:10:00  18.49693  18.59405  100.0733  608.7906      NaN   \n",
              "2022-01-01 00:15:00  18.49603  18.48410  100.0751  603.8464      NaN   \n",
              "2022-01-01 00:20:00  18.49512  18.37415  100.0770  598.9022      NaN   \n",
              "\n",
              "                      InputC6   InputC7   InputC8   InputC9  InputC10  ...  \\\n",
              "2022-01-01 00:00:00  1931.360  7.272931  1878.295  1.549485  27.25480  ...   \n",
              "2022-01-01 00:05:00  1929.365  7.273591  1878.252  1.552745  27.25177  ...   \n",
              "2022-01-01 00:10:00  1924.322  7.274251  1878.209  1.556006  27.24874  ...   \n",
              "2022-01-01 00:15:00  1919.279  7.274910  1878.167  1.559266  27.24572  ...   \n",
              "2022-01-01 00:20:00  1914.235  7.275570  1878.124  1.562526  27.24269  ...   \n",
              "\n",
              "                      InputA4   InputA5   InputA6   InputB1   InputB2  \\\n",
              "2022-01-01 00:00:00  60.10090  7.385031  7.081979  27.39823  20.89696   \n",
              "2022-01-01 00:05:00  60.09105  7.375766  7.136544  27.07825  26.92165   \n",
              "2022-01-01 00:10:00  60.08120  7.366502  7.085941  26.75828  14.01370   \n",
              "2022-01-01 00:15:00  60.07135  7.357237  6.743883  26.50328   5.78938   \n",
              "2022-01-01 00:20:00  60.06150  7.347972  6.621848  26.29828  39.27962   \n",
              "\n",
              "                      InputB3   InputB4  InputB5   InputB6  Target  \n",
              "2022-01-01 00:00:00  260.1674  2.193955      NaN  6.236635     NaN  \n",
              "2022-01-01 00:05:00  259.9575  2.187813      NaN  6.238485     NaN  \n",
              "2022-01-01 00:10:00  259.7475  2.181671      NaN  6.240336     NaN  \n",
              "2022-01-01 00:15:00  259.5375  2.175529      NaN  6.242187     NaN  \n",
              "2022-01-01 00:20:00  259.3275  2.169388      NaN  6.244037     NaN  \n",
              "\n",
              "[5 rows x 36 columns]"
            ],
            "text/html": [
              "\n",
              "  <div id=\"df-7c025fb0-2a7f-4d59-b4a5-8b3e134c62ac\" class=\"colab-df-container\">\n",
              "    <div>\n",
              "<style scoped>\n",
              "    .dataframe tbody tr th:only-of-type {\n",
              "        vertical-align: middle;\n",
              "    }\n",
              "\n",
              "    .dataframe tbody tr th {\n",
              "        vertical-align: top;\n",
              "    }\n",
              "\n",
              "    .dataframe thead th {\n",
              "        text-align: right;\n",
              "    }\n",
              "</style>\n",
              "<table border=\"1\" class=\"dataframe\">\n",
              "  <thead>\n",
              "    <tr style=\"text-align: right;\">\n",
              "      <th></th>\n",
              "      <th>InputC1</th>\n",
              "      <th>InputC2</th>\n",
              "      <th>InputC3</th>\n",
              "      <th>InputC4</th>\n",
              "      <th>InputC5</th>\n",
              "      <th>InputC6</th>\n",
              "      <th>InputC7</th>\n",
              "      <th>InputC8</th>\n",
              "      <th>InputC9</th>\n",
              "      <th>InputC10</th>\n",
              "      <th>...</th>\n",
              "      <th>InputA4</th>\n",
              "      <th>InputA5</th>\n",
              "      <th>InputA6</th>\n",
              "      <th>InputB1</th>\n",
              "      <th>InputB2</th>\n",
              "      <th>InputB3</th>\n",
              "      <th>InputB4</th>\n",
              "      <th>InputB5</th>\n",
              "      <th>InputB6</th>\n",
              "      <th>Target</th>\n",
              "    </tr>\n",
              "  </thead>\n",
              "  <tbody>\n",
              "    <tr>\n",
              "      <th>2022-01-01 00:00:00</th>\n",
              "      <td>18.49650</td>\n",
              "      <td>18.81396</td>\n",
              "      <td>100.0696</td>\n",
              "      <td>618.6791</td>\n",
              "      <td>NaN</td>\n",
              "      <td>1931.360</td>\n",
              "      <td>7.272931</td>\n",
              "      <td>1878.295</td>\n",
              "      <td>1.549485</td>\n",
              "      <td>27.25480</td>\n",
              "      <td>...</td>\n",
              "      <td>60.10090</td>\n",
              "      <td>7.385031</td>\n",
              "      <td>7.081979</td>\n",
              "      <td>27.39823</td>\n",
              "      <td>20.89696</td>\n",
              "      <td>260.1674</td>\n",
              "      <td>2.193955</td>\n",
              "      <td>NaN</td>\n",
              "      <td>6.236635</td>\n",
              "      <td>NaN</td>\n",
              "    </tr>\n",
              "    <tr>\n",
              "      <th>2022-01-01 00:05:00</th>\n",
              "      <td>18.49731</td>\n",
              "      <td>18.70401</td>\n",
              "      <td>100.0715</td>\n",
              "      <td>613.7349</td>\n",
              "      <td>NaN</td>\n",
              "      <td>1929.365</td>\n",
              "      <td>7.273591</td>\n",
              "      <td>1878.252</td>\n",
              "      <td>1.552745</td>\n",
              "      <td>27.25177</td>\n",
              "      <td>...</td>\n",
              "      <td>60.09105</td>\n",
              "      <td>7.375766</td>\n",
              "      <td>7.136544</td>\n",
              "      <td>27.07825</td>\n",
              "      <td>26.92165</td>\n",
              "      <td>259.9575</td>\n",
              "      <td>2.187813</td>\n",
              "      <td>NaN</td>\n",
              "      <td>6.238485</td>\n",
              "      <td>NaN</td>\n",
              "    </tr>\n",
              "    <tr>\n",
              "      <th>2022-01-01 00:10:00</th>\n",
              "      <td>18.49693</td>\n",
              "      <td>18.59405</td>\n",
              "      <td>100.0733</td>\n",
              "      <td>608.7906</td>\n",
              "      <td>NaN</td>\n",
              "      <td>1924.322</td>\n",
              "      <td>7.274251</td>\n",
              "      <td>1878.209</td>\n",
              "      <td>1.556006</td>\n",
              "      <td>27.24874</td>\n",
              "      <td>...</td>\n",
              "      <td>60.08120</td>\n",
              "      <td>7.366502</td>\n",
              "      <td>7.085941</td>\n",
              "      <td>26.75828</td>\n",
              "      <td>14.01370</td>\n",
              "      <td>259.7475</td>\n",
              "      <td>2.181671</td>\n",
              "      <td>NaN</td>\n",
              "      <td>6.240336</td>\n",
              "      <td>NaN</td>\n",
              "    </tr>\n",
              "    <tr>\n",
              "      <th>2022-01-01 00:15:00</th>\n",
              "      <td>18.49603</td>\n",
              "      <td>18.48410</td>\n",
              "      <td>100.0751</td>\n",
              "      <td>603.8464</td>\n",
              "      <td>NaN</td>\n",
              "      <td>1919.279</td>\n",
              "      <td>7.274910</td>\n",
              "      <td>1878.167</td>\n",
              "      <td>1.559266</td>\n",
              "      <td>27.24572</td>\n",
              "      <td>...</td>\n",
              "      <td>60.07135</td>\n",
              "      <td>7.357237</td>\n",
              "      <td>6.743883</td>\n",
              "      <td>26.50328</td>\n",
              "      <td>5.78938</td>\n",
              "      <td>259.5375</td>\n",
              "      <td>2.175529</td>\n",
              "      <td>NaN</td>\n",
              "      <td>6.242187</td>\n",
              "      <td>NaN</td>\n",
              "    </tr>\n",
              "    <tr>\n",
              "      <th>2022-01-01 00:20:00</th>\n",
              "      <td>18.49512</td>\n",
              "      <td>18.37415</td>\n",
              "      <td>100.0770</td>\n",
              "      <td>598.9022</td>\n",
              "      <td>NaN</td>\n",
              "      <td>1914.235</td>\n",
              "      <td>7.275570</td>\n",
              "      <td>1878.124</td>\n",
              "      <td>1.562526</td>\n",
              "      <td>27.24269</td>\n",
              "      <td>...</td>\n",
              "      <td>60.06150</td>\n",
              "      <td>7.347972</td>\n",
              "      <td>6.621848</td>\n",
              "      <td>26.29828</td>\n",
              "      <td>39.27962</td>\n",
              "      <td>259.3275</td>\n",
              "      <td>2.169388</td>\n",
              "      <td>NaN</td>\n",
              "      <td>6.244037</td>\n",
              "      <td>NaN</td>\n",
              "    </tr>\n",
              "  </tbody>\n",
              "</table>\n",
              "<p>5 rows × 36 columns</p>\n",
              "</div>\n",
              "    <div class=\"colab-df-buttons\">\n",
              "\n",
              "  <div class=\"colab-df-container\">\n",
              "    <button class=\"colab-df-convert\" onclick=\"convertToInteractive('df-7c025fb0-2a7f-4d59-b4a5-8b3e134c62ac')\"\n",
              "            title=\"Convert this dataframe to an interactive table.\"\n",
              "            style=\"display:none;\">\n",
              "\n",
              "  <svg xmlns=\"http://www.w3.org/2000/svg\" height=\"24px\" viewBox=\"0 -960 960 960\">\n",
              "    <path d=\"M120-120v-720h720v720H120Zm60-500h600v-160H180v160Zm220 220h160v-160H400v160Zm0 220h160v-160H400v160ZM180-400h160v-160H180v160Zm440 0h160v-160H620v160ZM180-180h160v-160H180v160Zm440 0h160v-160H620v160Z\"/>\n",
              "  </svg>\n",
              "    </button>\n",
              "\n",
              "  <style>\n",
              "    .colab-df-container {\n",
              "      display:flex;\n",
              "      gap: 12px;\n",
              "    }\n",
              "\n",
              "    .colab-df-convert {\n",
              "      background-color: #E8F0FE;\n",
              "      border: none;\n",
              "      border-radius: 50%;\n",
              "      cursor: pointer;\n",
              "      display: none;\n",
              "      fill: #1967D2;\n",
              "      height: 32px;\n",
              "      padding: 0 0 0 0;\n",
              "      width: 32px;\n",
              "    }\n",
              "\n",
              "    .colab-df-convert:hover {\n",
              "      background-color: #E2EBFA;\n",
              "      box-shadow: 0px 1px 2px rgba(60, 64, 67, 0.3), 0px 1px 3px 1px rgba(60, 64, 67, 0.15);\n",
              "      fill: #174EA6;\n",
              "    }\n",
              "\n",
              "    .colab-df-buttons div {\n",
              "      margin-bottom: 4px;\n",
              "    }\n",
              "\n",
              "    [theme=dark] .colab-df-convert {\n",
              "      background-color: #3B4455;\n",
              "      fill: #D2E3FC;\n",
              "    }\n",
              "\n",
              "    [theme=dark] .colab-df-convert:hover {\n",
              "      background-color: #434B5C;\n",
              "      box-shadow: 0px 1px 3px 1px rgba(0, 0, 0, 0.15);\n",
              "      filter: drop-shadow(0px 1px 2px rgba(0, 0, 0, 0.3));\n",
              "      fill: #FFFFFF;\n",
              "    }\n",
              "  </style>\n",
              "\n",
              "    <script>\n",
              "      const buttonEl =\n",
              "        document.querySelector('#df-7c025fb0-2a7f-4d59-b4a5-8b3e134c62ac button.colab-df-convert');\n",
              "      buttonEl.style.display =\n",
              "        google.colab.kernel.accessAllowed ? 'block' : 'none';\n",
              "\n",
              "      async function convertToInteractive(key) {\n",
              "        const element = document.querySelector('#df-7c025fb0-2a7f-4d59-b4a5-8b3e134c62ac');\n",
              "        const dataTable =\n",
              "          await google.colab.kernel.invokeFunction('convertToInteractive',\n",
              "                                                    [key], {});\n",
              "        if (!dataTable) return;\n",
              "\n",
              "        const docLinkHtml = 'Like what you see? Visit the ' +\n",
              "          '<a target=\"_blank\" href=https://colab.research.google.com/notebooks/data_table.ipynb>data table notebook</a>'\n",
              "          + ' to learn more about interactive tables.';\n",
              "        element.innerHTML = '';\n",
              "        dataTable['output_type'] = 'display_data';\n",
              "        await google.colab.output.renderOutput(dataTable, element);\n",
              "        const docLink = document.createElement('div');\n",
              "        docLink.innerHTML = docLinkHtml;\n",
              "        element.appendChild(docLink);\n",
              "      }\n",
              "    </script>\n",
              "  </div>\n",
              "\n",
              "\n",
              "<div id=\"df-c2980ab1-d1e9-4aa5-ae28-8ccce11b2648\">\n",
              "  <button class=\"colab-df-quickchart\" onclick=\"quickchart('df-c2980ab1-d1e9-4aa5-ae28-8ccce11b2648')\"\n",
              "            title=\"Suggest charts\"\n",
              "            style=\"display:none;\">\n",
              "\n",
              "<svg xmlns=\"http://www.w3.org/2000/svg\" height=\"24px\"viewBox=\"0 0 24 24\"\n",
              "     width=\"24px\">\n",
              "    <g>\n",
              "        <path d=\"M19 3H5c-1.1 0-2 .9-2 2v14c0 1.1.9 2 2 2h14c1.1 0 2-.9 2-2V5c0-1.1-.9-2-2-2zM9 17H7v-7h2v7zm4 0h-2V7h2v10zm4 0h-2v-4h2v4z\"/>\n",
              "    </g>\n",
              "</svg>\n",
              "  </button>\n",
              "\n",
              "<style>\n",
              "  .colab-df-quickchart {\n",
              "      --bg-color: #E8F0FE;\n",
              "      --fill-color: #1967D2;\n",
              "      --hover-bg-color: #E2EBFA;\n",
              "      --hover-fill-color: #174EA6;\n",
              "      --disabled-fill-color: #AAA;\n",
              "      --disabled-bg-color: #DDD;\n",
              "  }\n",
              "\n",
              "  [theme=dark] .colab-df-quickchart {\n",
              "      --bg-color: #3B4455;\n",
              "      --fill-color: #D2E3FC;\n",
              "      --hover-bg-color: #434B5C;\n",
              "      --hover-fill-color: #FFFFFF;\n",
              "      --disabled-bg-color: #3B4455;\n",
              "      --disabled-fill-color: #666;\n",
              "  }\n",
              "\n",
              "  .colab-df-quickchart {\n",
              "    background-color: var(--bg-color);\n",
              "    border: none;\n",
              "    border-radius: 50%;\n",
              "    cursor: pointer;\n",
              "    display: none;\n",
              "    fill: var(--fill-color);\n",
              "    height: 32px;\n",
              "    padding: 0;\n",
              "    width: 32px;\n",
              "  }\n",
              "\n",
              "  .colab-df-quickchart:hover {\n",
              "    background-color: var(--hover-bg-color);\n",
              "    box-shadow: 0 1px 2px rgba(60, 64, 67, 0.3), 0 1px 3px 1px rgba(60, 64, 67, 0.15);\n",
              "    fill: var(--button-hover-fill-color);\n",
              "  }\n",
              "\n",
              "  .colab-df-quickchart-complete:disabled,\n",
              "  .colab-df-quickchart-complete:disabled:hover {\n",
              "    background-color: var(--disabled-bg-color);\n",
              "    fill: var(--disabled-fill-color);\n",
              "    box-shadow: none;\n",
              "  }\n",
              "\n",
              "  .colab-df-spinner {\n",
              "    border: 2px solid var(--fill-color);\n",
              "    border-color: transparent;\n",
              "    border-bottom-color: var(--fill-color);\n",
              "    animation:\n",
              "      spin 1s steps(1) infinite;\n",
              "  }\n",
              "\n",
              "  @keyframes spin {\n",
              "    0% {\n",
              "      border-color: transparent;\n",
              "      border-bottom-color: var(--fill-color);\n",
              "      border-left-color: var(--fill-color);\n",
              "    }\n",
              "    20% {\n",
              "      border-color: transparent;\n",
              "      border-left-color: var(--fill-color);\n",
              "      border-top-color: var(--fill-color);\n",
              "    }\n",
              "    30% {\n",
              "      border-color: transparent;\n",
              "      border-left-color: var(--fill-color);\n",
              "      border-top-color: var(--fill-color);\n",
              "      border-right-color: var(--fill-color);\n",
              "    }\n",
              "    40% {\n",
              "      border-color: transparent;\n",
              "      border-right-color: var(--fill-color);\n",
              "      border-top-color: var(--fill-color);\n",
              "    }\n",
              "    60% {\n",
              "      border-color: transparent;\n",
              "      border-right-color: var(--fill-color);\n",
              "    }\n",
              "    80% {\n",
              "      border-color: transparent;\n",
              "      border-right-color: var(--fill-color);\n",
              "      border-bottom-color: var(--fill-color);\n",
              "    }\n",
              "    90% {\n",
              "      border-color: transparent;\n",
              "      border-bottom-color: var(--fill-color);\n",
              "    }\n",
              "  }\n",
              "</style>\n",
              "\n",
              "  <script>\n",
              "    async function quickchart(key) {\n",
              "      const quickchartButtonEl =\n",
              "        document.querySelector('#' + key + ' button');\n",
              "      quickchartButtonEl.disabled = true;  // To prevent multiple clicks.\n",
              "      quickchartButtonEl.classList.add('colab-df-spinner');\n",
              "      try {\n",
              "        const charts = await google.colab.kernel.invokeFunction(\n",
              "            'suggestCharts', [key], {});\n",
              "      } catch (error) {\n",
              "        console.error('Error during call to suggestCharts:', error);\n",
              "      }\n",
              "      quickchartButtonEl.classList.remove('colab-df-spinner');\n",
              "      quickchartButtonEl.classList.add('colab-df-quickchart-complete');\n",
              "    }\n",
              "    (() => {\n",
              "      let quickchartButtonEl =\n",
              "        document.querySelector('#df-c2980ab1-d1e9-4aa5-ae28-8ccce11b2648 button');\n",
              "      quickchartButtonEl.style.display =\n",
              "        google.colab.kernel.accessAllowed ? 'block' : 'none';\n",
              "    })();\n",
              "  </script>\n",
              "</div>\n",
              "    </div>\n",
              "  </div>\n"
            ]
          },
          "metadata": {},
          "execution_count": 16
        }
      ]
    },
    {
      "cell_type": "code",
      "source": [
        "df.info()"
      ],
      "metadata": {
        "colab": {
          "base_uri": "https://localhost:8080/"
        },
        "id": "iN8lYm65DKFF",
        "outputId": "1bdf1ab3-ff8f-49a0-f558-97fa5298dbd4"
      },
      "execution_count": null,
      "outputs": [
        {
          "output_type": "stream",
          "name": "stdout",
          "text": [
            "<class 'pandas.core.frame.DataFrame'>\n",
            "DatetimeIndex: 76474 entries, 2022-01-01 00:00:00 to 2022-09-23 13:45:00\n",
            "Data columns (total 36 columns):\n",
            " #   Column    Non-Null Count  Dtype  \n",
            "---  ------    --------------  -----  \n",
            " 0   InputC1   71948 non-null  float64\n",
            " 1   InputC2   70943 non-null  float64\n",
            " 2   InputC3   71116 non-null  float64\n",
            " 3   InputC4   76396 non-null  float64\n",
            " 4   InputC5   67461 non-null  float64\n",
            " 5   InputC6   70914 non-null  float64\n",
            " 6   InputC7   70852 non-null  float64\n",
            " 7   InputC8   70828 non-null  float64\n",
            " 8   InputC9   70880 non-null  float64\n",
            " 9   InputC10  70802 non-null  float64\n",
            " 10  InputE1   70871 non-null  float64\n",
            " 11  InputE2   74587 non-null  float64\n",
            " 12  InputE3   33120 non-null  float64\n",
            " 13  InputD1   71923 non-null  float64\n",
            " 14  InputD2   71190 non-null  float64\n",
            " 15  InputD3   71138 non-null  float64\n",
            " 16  InputD4   76398 non-null  float64\n",
            " 17  InputD5   66353 non-null  float64\n",
            " 18  InputD6   70881 non-null  float64\n",
            " 19  InputD7   71128 non-null  float64\n",
            " 20  InputD8   70886 non-null  float64\n",
            " 21  InputD9   74887 non-null  float64\n",
            " 22  InputD10  70892 non-null  float64\n",
            " 23  InputA1   75750 non-null  float64\n",
            " 24  InputA2   51052 non-null  float64\n",
            " 25  InputA3   76305 non-null  float64\n",
            " 26  InputA4   66850 non-null  float64\n",
            " 27  InputA5   68696 non-null  float64\n",
            " 28  InputA6   70885 non-null  float64\n",
            " 29  InputB1   72680 non-null  float64\n",
            " 30  InputB2   72699 non-null  float64\n",
            " 31  InputB3   76384 non-null  float64\n",
            " 32  InputB4   66949 non-null  float64\n",
            " 33  InputB5   43166 non-null  float64\n",
            " 34  InputB6   72619 non-null  float64\n",
            " 35  Target    70286 non-null  float64\n",
            "dtypes: float64(36)\n",
            "memory usage: 21.6 MB\n"
          ]
        }
      ]
    },
    {
      "cell_type": "markdown",
      "source": [
        "Looks like the data is collected every 5 minutes, NaN values are present, the target column can be NaN as well"
      ],
      "metadata": {
        "id": "U4VKAbGqxk-D"
      }
    },
    {
      "cell_type": "code",
      "source": [
        "missing_values = df.isnull().sum() / len(df)\n",
        "missing_values.sort_values(ascending=False).head(5)"
      ],
      "metadata": {
        "colab": {
          "base_uri": "https://localhost:8080/"
        },
        "id": "5C-twFobxbe9",
        "outputId": "abaca38f-8e34-4fd9-8376-d7eddd9ed8dd"
      },
      "execution_count": null,
      "outputs": [
        {
          "output_type": "execute_result",
          "data": {
            "text/plain": [
              "InputE3    0.566912\n",
              "InputB5    0.435547\n",
              "InputA2    0.332427\n",
              "InputD5    0.132346\n",
              "InputA4    0.125847\n",
              "dtype: float64"
            ]
          },
          "metadata": {},
          "execution_count": 9
        }
      ]
    },
    {
      "cell_type": "markdown",
      "source": [
        "The ratio of nulls, it looks like E3, B5, A2 are null the most often\n",
        "\n",
        "E3 -> NO3 dissolved\n",
        "\n",
        "B5 -> Not Specified\n",
        "\n",
        "A5 -> Not Specified\n",
        "\n",
        "\n",
        "What can we deduce from this?\n",
        "\n",
        "Some bacteria need nitrogen, I assume that's why NO3 is sometimes null and sometimes not.\n",
        "\n",
        "B5 and A5 are not specified\n"
      ],
      "metadata": {
        "id": "yVy2QQbTymHg"
      }
    },
    {
      "cell_type": "code",
      "source": [
        "df['Target'].describe()"
      ],
      "metadata": {
        "colab": {
          "base_uri": "https://localhost:8080/"
        },
        "id": "X_GF1uI0xPRk",
        "outputId": "556e1b46-ecbc-4e7e-c977-a18f1e5b7e97"
      },
      "execution_count": null,
      "outputs": [
        {
          "output_type": "execute_result",
          "data": {
            "text/plain": [
              "count    70286.000000\n",
              "mean        51.028149\n",
              "std         44.037615\n",
              "min         -0.011699\n",
              "25%         21.311235\n",
              "50%         33.956840\n",
              "75%         62.185650\n",
              "max        203.460900\n",
              "Name: Target, dtype: float64"
            ]
          },
          "metadata": {},
          "execution_count": 11
        }
      ]
    },
    {
      "cell_type": "markdown",
      "source": [
        "This is sludge, in mg/L. The negative value is probably a mistake of the readings.\n",
        "\n",
        "It looks like there's quite a bit of variation, there are some really high outliers but generally it should be around 30-40 mg/L"
      ],
      "metadata": {
        "id": "Im7Eg3t34akK"
      }
    },
    {
      "cell_type": "code",
      "source": [
        "df['Target'].plot(\n",
        "    style='.',\n",
        "    figsize=(15, 5),\n",
        "    title='Sludge in Water',\n",
        "    grid=True,\n",
        "    xlabel=\"Time\",\n",
        "    ylabel=\"Sludge mg/L\"\n",
        "    )\n",
        "\n",
        "mean_value = df['Target'].mean()\n",
        "median_value = df['Target'].median()\n",
        "\n",
        "plt.axhline(mean_value, color='red', linestyle='--', label=f'Mean: {mean_value:.2f}')\n",
        "plt.axhline(median_value, color='blue', linestyle='-.', label=f'Median: {median_value:.2f}')\n",
        "\n",
        "plt.legend()\n",
        "plt.show()"
      ],
      "metadata": {
        "colab": {
          "base_uri": "https://localhost:8080/",
          "height": 469
        },
        "id": "snr91Y3m7tDB",
        "outputId": "35e73a92-6c91-4440-dea5-234a4b6df888"
      },
      "execution_count": null,
      "outputs": [
        {
          "output_type": "display_data",
          "data": {
            "text/plain": [
              "<Figure size 1500x500 with 1 Axes>"
            ],
            "image/png": "[encoded data removed]"
          },
          "metadata": {}
        }
      ]
    },
    {
      "cell_type": "markdown",
      "source": [
        "It looks like the data was pretty unstable throughout the year with huge spikes in February, March, April and July."
      ],
      "metadata": {
        "id": "GbBU3vgUHEPM"
      }
    },
    {
      "cell_type": "code",
      "source": [],
      "metadata": {
        "id": "aWIaXlYgOvSu"
      },
      "execution_count": null,
      "outputs": []
    }
  ]
}